{
 "cells": [
  {
   "cell_type": "code",
   "execution_count": 1,
   "id": "0a271b1b",
   "metadata": {},
   "outputs": [],
   "source": [
    "from IPython.display import Image "
   ]
  },
  {
   "cell_type": "code",
   "execution_count": 2,
   "id": "61f13f4f",
   "metadata": {},
   "outputs": [
    {
     "name": "stdout",
     "output_type": "stream",
     "text": [
      "config.network_url = 'https://rinkeby.infura.io/v3/d163c48816434b0bbb3ac3925d6c6c80'\n",
      "config.block_confirmations = 0\n",
      "config.metadata_cache_uri = 'https://aquarius.oceanprotocol.com'\n",
      "config.provider_url = 'https://provider.rinkeby.oceanprotocol.com'\n"
     ]
    }
   ],
   "source": [
    "from ocean_lib.ocean.ocean import Ocean\n",
    "from ocean_lib.config import Config\n",
    "\n",
    "config = Config('config.ini')\n",
    "ocean = Ocean(config)\n",
    "\n",
    "print(f\"config.network_url = '{config.network_url}'\")\n",
    "print(f\"config.block_confirmations = {config.block_confirmations.value}\")\n",
    "print(f\"config.metadata_cache_uri = '{config.metadata_cache_uri}'\")\n",
    "print(f\"config.provider_url = '{config.provider_url}'\")"
   ]
  },
  {
   "cell_type": "code",
   "execution_count": 3,
   "id": "72b9853a",
   "metadata": {},
   "outputs": [
    {
     "name": "stdout",
     "output_type": "stream",
     "text": [
      "public address = '0xD438208197a0C552ED04e5e51695EC695E30C284'\n"
     ]
    }
   ],
   "source": [
    "import os\n",
    "from ocean_lib.web3_internal.wallet import Wallet\n",
    "\n",
    "wallet = Wallet(ocean.web3, os.getenv('MY_TEST_KEY'), config.block_confirmations)\n",
    "\n",
    "print(f\"public address = '{wallet.address}'\")"
   ]
  },
  {
   "cell_type": "code",
   "execution_count": 4,
   "id": "b6d79051",
   "metadata": {},
   "outputs": [],
   "source": [
    "publisher_wallet = Wallet(ocean.web3, os.getenv('MY_TEST_KEY2'), config.block_confirmations)"
   ]
  },
  {
   "cell_type": "code",
   "execution_count": 5,
   "id": "b8eac2ad",
   "metadata": {},
   "outputs": [
    {
     "name": "stdout",
     "output_type": "stream",
     "text": [
      "Data token info = '{'address': '0x9e9B9528742bccF77b101Dc75f94e2b34b4afc37', 'name': 'Guileless Anemone Token', 'symbol': 'GUIANE-34', 'decimals': 18, 'cap': 1000.0}'\n",
      "Dataset name = 'Imagenette'\n"
     ]
    }
   ],
   "source": [
    "DATA_ddo = ocean.assets.resolve(\"did:op:9e9B9528742bccF77b101Dc75f94e2b34b4afc37\")\n",
    "\n",
    "print(f\"Data token info = '{DATA_ddo.values['dataTokenInfo']}'\")\n",
    "print(f\"Dataset name = '{DATA_ddo.metadata['main']['name']}'\")"
   ]
  },
  {
   "cell_type": "code",
   "execution_count": 6,
   "id": "c43468cc",
   "metadata": {},
   "outputs": [
    {
     "name": "stdout",
     "output_type": "stream",
     "text": [
      "Alg token info = '{'address': '0x1fDe09d7056F5A077e67C9170998855dbE0DE62D', 'name': 'FASTCLASS2', 'symbol': 'FASTCLASS2', 'decimals': 18, 'cap': 1000.0}'\n",
      "Alg name = 'fast-classification-v0.11'\n"
     ]
    }
   ],
   "source": [
    "ALG_ddo = ocean.assets.resolve(\"did:op:1fDe09d7056F5A077e67C9170998855dbE0DE62D\")\n",
    "\n",
    "print(f\"Alg token info = '{ALG_ddo.values['dataTokenInfo']}'\")\n",
    "print(f\"Alg name = '{ALG_ddo.metadata['main']['name']}'\")"
   ]
  },
  {
   "cell_type": "code",
   "execution_count": 7,
   "id": "94320f64",
   "metadata": {},
   "outputs": [
    {
     "data": {
      "text/plain": [
       "'0x8c0032ae613c8e8f4d29bc91cf16f9db4663c5dc98932533a2dd4c6a0e798918'"
      ]
     },
     "execution_count": 7,
     "metadata": {},
     "output_type": "execute_result"
    }
   ],
   "source": [
    "from ocean_lib.assets import utils\n",
    "utils.add_publisher_trusted_algorithm(DATA_ddo, ALG_ddo.did, config.metadata_cache_uri)\n",
    "ocean.assets.update(DATA_ddo, publisher_wallet=publisher_wallet)"
   ]
  },
  {
   "cell_type": "code",
   "execution_count": null,
   "id": "cf76fcb9",
   "metadata": {},
   "outputs": [],
   "source": []
  }
 ],
 "metadata": {
  "kernelspec": {
   "display_name": "Python 3",
   "language": "python",
   "name": "python3"
  },
  "language_info": {
   "codemirror_mode": {
    "name": "ipython",
    "version": 3
   },
   "file_extension": ".py",
   "mimetype": "text/x-python",
   "name": "python",
   "nbconvert_exporter": "python",
   "pygments_lexer": "ipython3",
   "version": "3.8.3"
  }
 },
 "nbformat": 4,
 "nbformat_minor": 5
}
