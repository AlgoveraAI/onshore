{
 "cells": [
  {
   "cell_type": "code",
   "execution_count": 4,
   "id": "0a271b1b",
   "metadata": {},
   "outputs": [],
   "source": [
    "from IPython.display import Image "
   ]
  },
  {
   "cell_type": "code",
   "execution_count": 1,
   "id": "61f13f4f",
   "metadata": {},
   "outputs": [
    {
     "name": "stdout",
     "output_type": "stream",
     "text": [
      "config.network_url = 'https://rinkeby.infura.io/v3/d163c48816434b0bbb3ac3925d6c6c80'\n",
      "config.metadata_cache_uri = 'https://aquarius.oceanprotocol.com'\n",
      "config.provider_url = 'https://provider.rinkeby.oceanprotocol.com'\n"
     ]
    }
   ],
   "source": [
    "from ocean_lib.ocean.ocean import Ocean\n",
    "from ocean_lib.config import Config\n",
    "\n",
    "config = Config('config.ini')\n",
    "ocean = Ocean(config)\n",
    "\n",
    "print(f\"config.network_url = '{config.network_url}'\")\n",
    "print(f\"config.metadata_cache_uri = '{config.metadata_cache_uri}'\")\n",
    "print(f\"config.provider_url = '{config.provider_url}'\")"
   ]
  },
  {
   "cell_type": "code",
   "execution_count": 2,
   "id": "72b9853a",
   "metadata": {},
   "outputs": [
    {
     "name": "stdout",
     "output_type": "stream",
     "text": [
      "public address = '0x2338e4e94AEe1817701F65f2c751f7c844b0e43b'\n"
     ]
    }
   ],
   "source": [
    "import os\n",
    "from ocean_lib.web3_internal.wallet import Wallet\n",
    "\n",
    "wallet = Wallet(ocean.web3, private_key=os.getenv('MY_TEST_KEY'))\n",
    "\n",
    "print(f\"public address = '{wallet.address}'\")"
   ]
  },
  {
   "cell_type": "code",
   "execution_count": 3,
   "id": "d813310f",
   "metadata": {},
   "outputs": [],
   "source": [
    "# Publish ALG datatoken\n",
    "ALG_datatoken = ocean.create_data_token('ALG1', 'ALG1', wallet, blob=ocean.config.metadata_cache_uri)\n",
    "# ALG_datatoken.mint(wallet.address, to_wei(100), wallet)\n",
    "# print(f\"ALG_datatoken.address = '{ALG_datatoken.address}'\")"
   ]
  },
  {
   "cell_type": "markdown",
   "id": "d9e3ae12",
   "metadata": {},
   "source": [
    "We will use the fast.ai library to train a simple image classifier. We have created a custom Dockerfile to enable you to do this. "
   ]
  },
  {
   "cell_type": "code",
   "execution_count": null,
   "id": "d0f5cac7",
   "metadata": {},
   "outputs": [],
   "source": []
  }
 ],
 "metadata": {
  "kernelspec": {
   "display_name": "Python 3",
   "language": "python",
   "name": "python3"
  },
  "language_info": {
   "codemirror_mode": {
    "name": "ipython",
    "version": 3
   },
   "file_extension": ".py",
   "mimetype": "text/x-python",
   "name": "python",
   "nbconvert_exporter": "python",
   "pygments_lexer": "ipython3",
   "version": "3.8.3"
  }
 },
 "nbformat": 4,
 "nbformat_minor": 5
}
